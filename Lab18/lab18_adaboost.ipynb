{
 "cells": [
  {
   "cell_type": "markdown",
   "id": "dcd230eb",
   "metadata": {},
   "source": [
    "### Lab 15: Using Scikit-Learn for Decision Tree Modelling\n",
    "\n",
    "In this lab, we use scikit-learn to build decision tree models that will predict whether\n",
    "a song is Rock, Pop, or Hip-Hop."
   ]
  },
  {
   "cell_type": "code",
   "execution_count": 25,
   "id": "0d33fe69",
   "metadata": {},
   "outputs": [],
   "source": [
    "# imports\n",
    "import pandas as pd\n",
    "from sklearn.tree import DecisionTreeClassifier\n",
    "from sklearn.ensemble import AdaBoostClassifier\n",
    "from sklearn import metrics\n",
    "import matplotlib.pyplot as plt"
   ]
  },
  {
   "cell_type": "code",
   "execution_count": 26,
   "id": "95e9cc31",
   "metadata": {},
   "outputs": [],
   "source": [
    "# Read training and test data.  Split both into X (features) and y (classes)\n",
    "train = pd.read_csv('spotify_train.csv')\n",
    "X_train = train.iloc[:, :-1]\n",
    "y_train = train.track_genre\n",
    "\n",
    "test = pd.read_csv('spotify_test.csv')\n",
    "X_test = test.iloc[:, :-1]\n",
    "y_test = test.track_genre\n",
    "\n"
   ]
  },
  {
   "cell_type": "code",
   "execution_count": 27,
   "id": "3c4f6c10",
   "metadata": {},
   "outputs": [
    {
     "data": {
      "text/plain": [
       "0          pop\n",
       "1          pop\n",
       "2         rock\n",
       "3      hip-hop\n",
       "4         rock\n",
       "        ...   \n",
       "995        pop\n",
       "996       rock\n",
       "997       rock\n",
       "998        pop\n",
       "999       rock\n",
       "Name: track_genre, Length: 1000, dtype: object"
      ]
     },
     "execution_count": 27,
     "metadata": {},
     "output_type": "execute_result"
    }
   ],
   "source": [
    "y_test"
   ]
  },
  {
   "cell_type": "code",
   "execution_count": 55,
   "id": "4e36b7ce",
   "metadata": {},
   "outputs": [
    {
     "data": {
      "text/plain": [
       "0.79"
      ]
     },
     "execution_count": 55,
     "metadata": {},
     "output_type": "execute_result"
    }
   ],
   "source": [
    "# Create a model object\n",
    "#ada = AdaBoostClassifier(DecisionTreeClassifier(max_depth=5), n_estimators=200)\n",
    "ada = AdaBoostClassifier(estimator=DecisionTreeClassifier(max_depth=5), n_estimators=200)\n",
    "\n",
    "\n",
    "# Train the model\n",
    "ada.fit(X=X_train, y = y_train)\n",
    "\n",
    "# Predict the classes\n",
    "# y_pred = clf.predict(X_test)\n",
    "y_pred = ada.predict(X_test)\n",
    "\n",
    "# Print model accuracy\n",
    "metrics.accuracy_score(y_test, y_pred)"
   ]
  }
 ],
 "metadata": {
  "kernelspec": {
   "display_name": "Python 3 (ipykernel)",
   "language": "python",
   "name": "python3"
  },
  "language_info": {
   "codemirror_mode": {
    "name": "ipython",
    "version": 3
   },
   "file_extension": ".py",
   "mimetype": "text/x-python",
   "name": "python",
   "nbconvert_exporter": "python",
   "pygments_lexer": "ipython3",
   "version": "3.9.16"
  }
 },
 "nbformat": 4,
 "nbformat_minor": 5
}

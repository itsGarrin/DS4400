{
 "cells": [
  {
   "cell_type": "markdown",
   "id": "432d46e1",
   "metadata": {},
   "source": [
    "### Tree Data Structures\n",
    "\n",
    "Decision tree construction requires that we think recursively.  Why?   As we expand each node, we are making the same decision over and over again - what is the next best split given the instances that I have at this point in the tree?   To construct the tree we recursively construct trees on the left and right branches."
   ]
  },
  {
   "cell_type": "code",
   "execution_count": 1,
   "id": "749033cf",
   "metadata": {},
   "outputs": [
    {
     "data": {
      "text/plain": [
       "2432902008176640000"
      ]
     },
     "execution_count": 1,
     "metadata": {},
     "output_type": "execute_result"
    }
   ],
   "source": [
    "# Recursive functions are functions that call themselves\n",
    "\n",
    "def factorial(n):\n",
    "    if n <= 1:\n",
    "        return 1\n",
    "    else:\n",
    "        return n * factorial(n-1)\n",
    "    \n",
    "factorial(20)"
   ]
  },
  {
   "cell_type": "code",
   "execution_count": 2,
   "id": "66ff0819",
   "metadata": {},
   "outputs": [
    {
     "name": "stdout",
     "output_type": "stream",
     "text": [
      "[1, 2, 4, 5, 6, 7, 9, 11, 13, 14, 15, 17, 19, 21, 22, 23, 24, 26, 28, 29, 31, 32, 33, 35, 36, 38, 40, 41, 42, 44, 46, 48, 50, 52, 54, 55, 57, 59, 61, 62, 63, 65, 67, 69, 70, 71, 73, 75, 77, 78, 79, 80, 82, 84, 86, 88, 90, 92, 94, 95, 97, 99, 101, 103, 105, 107, 108, 109, 110, 112, 114, 116, 118, 120, 121, 123, 124, 125, 127, 129, 131, 132, 134, 136, 138, 139, 140, 142, 143, 144, 146, 148, 149, 150, 152, 153, 154, 155, 157, 158, 160, 161, 163, 164, 165, 167, 168, 169, 170, 172, 173, 175, 177, 178, 180, 181, 182, 184, 185, 187, 188, 190, 191, 192, 194, 196, 198, 200, 202, 203, 204, 206, 207, 208, 210, 212, 213, 215, 216, 217, 219, 221, 223, 225, 227, 228, 230, 232, 234, 236, 237, 238, 240, 242, 244, 245, 247, 249, 251, 253, 254, 255, 256, 257, 259, 261, 262, 264, 266, 268, 270, 271, 272, 274, 275, 277, 278, 280, 281, 283, 285, 286, 288, 290, 292, 293, 294, 296, 297, 298, 299, 301, 303, 305, 306, 308, 309, 311, 312, 314, 315, 316, 318, 319, 321, 323, 324, 325, 326, 327, 329, 330, 331, 332, 334, 336, 338, 340, 341, 343, 344, 346, 348, 350, 351, 352, 354, 355, 357, 358, 360, 361, 363, 364, 366, 368, 369, 370, 372, 373, 374, 375, 376, 378, 380, 382, 383, 384, 385, 387, 388, 389, 390, 391, 392, 394, 395, 397, 399, 401, 402, 403, 405, 407, 408, 410, 411, 413, 414, 415, 417, 419, 420, 422, 424, 426, 427, 429, 430, 431, 432, 433, 435, 437, 438, 439, 441, 442, 444, 445, 447, 448, 449, 450, 451, 452, 453, 454, 455, 456, 458, 459, 461, 463, 465, 466, 468, 469, 470, 471, 472, 474, 475, 476, 478, 480, 482, 483, 484, 485, 486, 487, 488, 489, 490, 491, 493, 495, 496, 497, 499, 500, 502, 503, 505, 506, 508, 509, 510, 511, 513, 514, 516, 517, 519, 520, 522, 523, 525, 527, 529, 531, 533, 534, 536, 538, 539, 541, 543, 544, 545, 546, 547, 549, 550, 552, 554, 556, 558, 559, 560, 561, 563, 564, 566, 568, 569, 570, 572, 574, 576, 578, 580, 582, 583, 584, 586, 587, 589, 590, 591, 593, 594, 596, 597, 599, 601, 602, 603, 605, 606, 608, 609, 611, 613, 615, 616, 618, 619, 620, 622, 624, 626, 628, 629, 630, 632, 633, 634, 635, 636, 638, 639, 641, 643, 644, 646, 647, 648, 650, 651, 652, 653, 655, 656, 658, 660, 661, 662, 663, 664, 666, 667, 669, 671, 673, 675, 677, 679, 680, 682, 683, 685, 687, 689, 690, 691, 692, 694, 696, 697, 698, 699, 700, 701, 703, 705, 706, 708, 710, 712, 714, 715, 717, 719, 721, 723, 724, 726, 728, 730, 732, 734, 736, 738, 739, 740, 742, 743, 745, 746, 748, 750, 751, 753, 755, 757, 759, 760, 762, 764, 766, 768, 770, 771, 773, 774, 775, 776, 778, 780, 781, 782, 783, 784, 786, 788, 790, 792, 794, 795, 797, 798, 799, 801, 802, 804, 805, 806, 807, 808, 810, 811, 813, 815, 816, 818, 820, 821, 822, 824, 825, 827, 829, 830, 831, 833, 834, 835, 836, 838, 839, 841, 843, 844, 846, 847, 849, 850, 852, 854, 855, 857, 859, 860, 861, 862, 864, 865, 867, 868, 869, 871, 872, 874, 875, 877, 879, 880, 882, 883, 885, 887, 889, 890, 891, 892, 893, 894, 895, 896, 898, 900, 902, 904, 905, 907, 908, 910, 912, 913, 915, 917, 919, 920, 922, 924, 925, 927, 929, 931, 932, 933, 934, 936, 938, 939, 940, 941, 943, 945, 946, 947, 949, 951, 952, 954, 956, 957, 959, 960, 961, 962, 963, 964, 966, 967, 968, 970, 972, 974, 976, 977, 979, 981, 983, 984, 986, 988, 989, 991, 992, 994, 996, 998, 999, 1000, 1002, 1003, 1005, 1006, 1008, 1009, 1011, 1012, 1014, 1016, 1018, 1019, 1020, 1021, 1023, 1024, 1025, 1027, 1028, 1029, 1030, 1031, 1033, 1035, 1036, 1037, 1039, 1041, 1043, 1045, 1046, 1048, 1050, 1051, 1053, 1054, 1056, 1057, 1058, 1060, 1061, 1063, 1064, 1066, 1068, 1070, 1071, 1073, 1074, 1076, 1078, 1079, 1080, 1082, 1083, 1084, 1086, 1088, 1089, 1091, 1092, 1093, 1094, 1095, 1097, 1099, 1100, 1102, 1104, 1106, 1107, 1109, 1110, 1112, 1113, 1115, 1116, 1118, 1119, 1121, 1123, 1124, 1125, 1127, 1128, 1129, 1130, 1131, 1133, 1135, 1137, 1138, 1140, 1141, 1142, 1144, 1145, 1147, 1149, 1151, 1153, 1154, 1156, 1158, 1160, 1161, 1162, 1163, 1165, 1167, 1168, 1170, 1172, 1174, 1176, 1177, 1178, 1180, 1182, 1183, 1185, 1186, 1188, 1189, 1191, 1192, 1193, 1195, 1197, 1198, 1199, 1201, 1202, 1203, 1204, 1205, 1207, 1208, 1209, 1211, 1213, 1214, 1215, 1217, 1219, 1220, 1222, 1223, 1225, 1227, 1228, 1230, 1232, 1233, 1234, 1235, 1237, 1238, 1239, 1240, 1241, 1243, 1244, 1245, 1246, 1247, 1249, 1251, 1253, 1254, 1255, 1256, 1257, 1259, 1261, 1263, 1265, 1266, 1267, 1269, 1270, 1271, 1272, 1273, 1274, 1276, 1277, 1278, 1279, 1280, 1282, 1283, 1284, 1285, 1286, 1287, 1288, 1290, 1291, 1293, 1295, 1296, 1297, 1299, 1301, 1303, 1305, 1306, 1307, 1308, 1309, 1310, 1311, 1312, 1313, 1315, 1316, 1318, 1320, 1321, 1322, 1324, 1325, 1327, 1329, 1330, 1331, 1333, 1334, 1335, 1336, 1337, 1338, 1339, 1340, 1342, 1344, 1346, 1348, 1350, 1351, 1352, 1353, 1355, 1356, 1358, 1359, 1360, 1361, 1362, 1364, 1365, 1366, 1368, 1370, 1371, 1373, 1375, 1376, 1377, 1379, 1380, 1382, 1383, 1384, 1385, 1387, 1388, 1389, 1390, 1391, 1392, 1394, 1396, 1398, 1399, 1401, 1403, 1405, 1407, 1409, 1410, 1412, 1413, 1414, 1416, 1417, 1419, 1421, 1423, 1425, 1426, 1427, 1429, 1431, 1432, 1433, 1435, 1437, 1439, 1441, 1443, 1444, 1445, 1446, 1448, 1449, 1451, 1452, 1454, 1455, 1457, 1459, 1461, 1462, 1463, 1464, 1466, 1467, 1469, 1470, 1472, 1473, 1475, 1476, 1477, 1478, 1479, 1480, 1482, 1483, 1485, 1487, 1488, 1489, 1490, 1491, 1493, 1494, 1495, 1497, 1498, 1500]\n"
     ]
    }
   ],
   "source": [
    "# Binary search on a SORTED list\n",
    "# Create a sorted list of numbers (in linear O(n) time)\n",
    "\n",
    "import random as rnd\n",
    "\n",
    "N = 1000\n",
    "L = [1]\n",
    "for i in range(1, N):\n",
    "    L.append(L[i-1] + rnd.randrange(1,3))\n",
    "\n",
    "print(L)\n"
   ]
  },
  {
   "cell_type": "code",
   "execution_count": 3,
   "id": "0b0a8af8",
   "metadata": {},
   "outputs": [],
   "source": [
    "# Binary search\n",
    "\n",
    "def bsearch(L, x):\n",
    "    return binsearch(L, x, 0, len(L)-1)\n",
    "\n",
    "\n",
    "def binsearch(L, x, lower, upper):\n",
    "    \n",
    "    if (lower > upper):\n",
    "        print(x,\"not found.\")\n",
    "        return None\n",
    "    \n",
    "    mid = (upper + lower) // 2\n",
    "    val = L[mid]\n",
    "    print(lower, mid, upper)\n",
    "    \n",
    "    if x == val:\n",
    "        return mid\n",
    "    elif x > val:\n",
    "        return binsearch(L, x, mid+1, upper)\n",
    "    else:\n",
    "        return binsearch(L, x, lower, mid-1)\n",
    "    \n",
    "    "
   ]
  },
  {
   "cell_type": "code",
   "execution_count": 4,
   "id": "090ac846",
   "metadata": {},
   "outputs": [
    {
     "name": "stdout",
     "output_type": "stream",
     "text": [
      "0 499 999\n",
      "0 249 498\n",
      "0 124 248\n",
      "125 186 248\n",
      "125 155 185\n",
      "125 139 154\n",
      "140 147 154\n",
      "148 151 154\n",
      "148 149 150\n",
      "148 148 148\n",
      "235 not found.\n",
      "0 499 999\n",
      "0 249 498\n",
      "0 124 248\n",
      "125 186 248\n",
      "125 155 185\n",
      "125 139 154\n",
      "140 147 154\n",
      "148 151 154\n",
      "148 149 150\n",
      "148 148 148\n"
     ]
    },
    {
     "data": {
      "text/plain": [
       "148"
      ]
     },
     "execution_count": 4,
     "metadata": {},
     "output_type": "execute_result"
    }
   ],
   "source": [
    "bsearch(L, 235)\n",
    "bsearch(L, 234)"
   ]
  },
  {
   "cell_type": "code",
   "execution_count": 5,
   "id": "c59d9da2",
   "metadata": {},
   "outputs": [
    {
     "name": "stdout",
     "output_type": "stream",
     "text": [
      "(5,\n",
      " (3,\n",
      "  (1, None, None),\n",
      "  (4, None, None)),\n",
      " (9, None, (11, None, None)))\n"
     ]
    }
   ],
   "source": [
    "# We are already familiar with a recursive data structures. \n",
    "# They are called a DICTIONARIES AND TUPLES!\n",
    "# \n",
    "#\n",
    "#                     5\n",
    "#                    | \\\n",
    "#                   3   9\n",
    "#                  /\\    \\\n",
    "#                 1  4    11\n",
    "#\n",
    "from pprint import pprint\n",
    "\n",
    "T = (5, \n",
    "       (3, \n",
    "            (1, None, None), \n",
    "            (4, None, None)), \n",
    "       (9, \n",
    "            None, \n",
    "            (11, None, None))\n",
    "    )\n",
    "\n",
    "pprint(T, width=30)\n",
    "\n",
    "\n"
   ]
  },
  {
   "cell_type": "code",
   "execution_count": 83,
   "id": "45cab3d9",
   "metadata": {},
   "outputs": [],
   "source": [
    "# Create a tree where each node is of the form (key, left_tree, right_tree)\n",
    "# THIS IS NOT THE SIMPLEST APPROACH BUT IT WILL GET YOU INTO THE RIGHT\n",
    "# FRAME OF MIND AND IS WORTH STUDYING\n",
    "\n",
    "def insert(T, x):\n",
    "    if T is None:\n",
    "        T = (x, None, None) # Create a new node with no branches\n",
    "    else:\n",
    "        key, left, right = T\n",
    "        if x <= key:\n",
    "            T = (key, insert(left, x), right) # Update left tree\n",
    "        else:\n",
    "            T = (key, left, insert(right, x)) # Update the right tree\n",
    "    return T\n",
    "            \n",
    "\n",
    "def tree(L, T=None):\n",
    "    \"\"\"Create a tree from the values in the list L \"\"\"\n",
    "    # print(L, T)\n",
    "    if len(L) == 0:\n",
    "        return T\n",
    "    else:\n",
    "        #T = insert(T, L[0])\n",
    "        #T = tree(L[1:], T)\n",
    "        #return T\n",
    "        return tree(L[1:], insert(T, L[0]))\n",
    "    \n",
    "def walk(T):\n",
    "    \n",
    "    if T is not None:\n",
    "        key, left, right = T\n",
    "        walk(left)\n",
    "        print(key)\n",
    "        walk(right)\n",
    "\n",
    "    \n",
    "    "
   ]
  },
  {
   "cell_type": "code",
   "execution_count": 87,
   "id": "2842b31e",
   "metadata": {},
   "outputs": [
    {
     "name": "stdout",
     "output_type": "stream",
     "text": [
      "(5,\n",
      " (3,\n",
      "  (1, None, None),\n",
      "  (4, None, None)),\n",
      " (9, None, (11, None, None)))\n",
      "1\n",
      "3\n",
      "4\n",
      "5\n",
      "9\n",
      "11\n"
     ]
    }
   ],
   "source": [
    "Lsmall = [5, 3, 1, 4, 9, 11]\n",
    "Lsorted = sorted(Lsmall)\n",
    "\n",
    "T = tree(Lsmall)\n",
    "pprint(T, width=30)\n",
    "walk(T)"
   ]
  },
  {
   "cell_type": "code",
   "execution_count": 88,
   "id": "7322872b",
   "metadata": {},
   "outputs": [
    {
     "name": "stdout",
     "output_type": "stream",
     "text": [
      "(5,\n",
      " (3,\n",
      "  (1, None, None),\n",
      "  (4, None, None)),\n",
      " (9, None, (11, None, None)))\n",
      "1\n",
      "3\n",
      "4\n",
      "5\n",
      "9\n",
      "11\n"
     ]
    }
   ],
   "source": [
    "# A much improved (SIMPLER) approach!\n",
    "# More inline with the splitting we do to construct a decision tree\n",
    "# where instances are split based on the best condition we can find.\n",
    "\n",
    "def tree(L):\n",
    "    if L is None or len(L) == 0: # This is our stopping condition\n",
    "        return None\n",
    "    key = L[0]\n",
    "    left_vals = [x for x in L[1:] if x <= key] # Left split\n",
    "    right_vals = [x for x in L[1:] if x > key] # Right split\n",
    "    return (key, tree(left_vals), tree(right_vals))\n",
    "\n",
    "T = tree([5, 3, 1, 4, 9, 11])\n",
    "pprint(T, width=30)\n",
    "walk(T)"
   ]
  },
  {
   "cell_type": "code",
   "execution_count": 89,
   "id": "a63a5cfd",
   "metadata": {},
   "outputs": [
    {
     "name": "stdout",
     "output_type": "stream",
     "text": [
      "(1,\n",
      " None,\n",
      " (3,\n",
      "  None,\n",
      "  (4,\n",
      "   None,\n",
      "   (5,\n",
      "    None,\n",
      "    (9,\n",
      "     None,\n",
      "     (11, None, None))))))\n"
     ]
    }
   ],
   "source": [
    "# Notice what happens if your data is already sorted (bad)\n",
    "Tsorted = tree(Lsorted)\n",
    "pprint(Tsorted, width=30)"
   ]
  },
  {
   "cell_type": "code",
   "execution_count": 91,
   "id": "0a53499b",
   "metadata": {},
   "outputs": [],
   "source": [
    "# Some helper functions\n",
    "def key(T):\n",
    "    return T[0] if T is not None else None\n",
    "\n",
    "\n",
    "def left(T):\n",
    "    return T[1] if T is not None else None\n",
    "    \n",
    "\n",
    "def right(T):\n",
    "    return T[2] if T is not None else None\n",
    "\n",
    "\n",
    "\n",
    "# Searching a binary tree\n",
    "# You'll need to do something like this when predicting classes in a decision tree...identify the right leaf\n",
    "# And determine the majority class of that leaf....\n",
    "\n",
    "def btree_search(T, x):\n",
    "    if T is None:\n",
    "        return False\n",
    "    elif x == key(T):\n",
    "        return True\n",
    "    elif x < key(T):\n",
    "        return btree_search(left(T), x)\n",
    "    else:\n",
    "        return btree_search(right(T), x)"
   ]
  },
  {
   "cell_type": "code",
   "execution_count": 94,
   "id": "fb7d6962",
   "metadata": {},
   "outputs": [
    {
     "name": "stdout",
     "output_type": "stream",
     "text": [
      "0 False\n",
      "1 True\n",
      "2 False\n",
      "3 True\n",
      "4 True\n",
      "5 True\n",
      "6 False\n",
      "7 False\n",
      "8 False\n",
      "9 True\n",
      "10 False\n",
      "11 True\n"
     ]
    }
   ],
   "source": [
    "for i in range(12):\n",
    "    print(i, btree_search(T, i))"
   ]
  },
  {
   "cell_type": "code",
   "execution_count": 95,
   "id": "2a1ae779",
   "metadata": {},
   "outputs": [
    {
     "name": "stdout",
     "output_type": "stream",
     "text": [
      "2 : (5, (3, (1, None, None), (4, None, None)), (9, None, (11, None, None)))\n",
      "5 : (1, None, (3, None, (4, None, (5, None, (9, None, (11, None, None))))))\n",
      "0 : (5, None, None)\n"
     ]
    }
   ],
   "source": [
    "# What is the depth of the tree?\n",
    "# The depth is the Maximum number of \"steps\" to any leaf\n",
    "def depth(T):\n",
    "    \"\"\" Return the maximum depth of the tree \"\"\"\n",
    "    if T is None:\n",
    "        return -1\n",
    "    else:\n",
    "        return 1 + max(depth(left(T)), depth(right(T)))\n",
    "    \n",
    "\n",
    "print(depth(T), \":\", T)\n",
    "print(depth(Tsorted), \":\", Tsorted)\n",
    "print(depth((5, None, None)), \":\", (5, None, None))\n"
   ]
  },
  {
   "cell_type": "code",
   "execution_count": 96,
   "id": "bb4026ab",
   "metadata": {},
   "outputs": [
    {
     "name": "stdout",
     "output_type": "stream",
     "text": [
      "6 : (5, (3, (1, None, None), (4, None, None)), (9, None, (11, None, None)))\n",
      "6 : (1, None, (3, None, (4, None, (5, None, (9, None, (11, None, None))))))\n",
      "1 : (5, None, None)\n"
     ]
    }
   ],
   "source": [
    "def nodes(T):\n",
    "    \"\"\" The number of nodes in the tree (internal or leaf) \"\"\"\n",
    "    if T is None:\n",
    "        return 0\n",
    "    else:\n",
    "        return 1 + nodes(left(T)) + nodes(right(T))\n",
    "    \n",
    "print(nodes(T), \":\", T)\n",
    "print(nodes(Tsorted), \":\", Tsorted)\n",
    "print(nodes((5, None, None)), \":\", (5, None, None))\n"
   ]
  },
  {
   "cell_type": "code",
   "execution_count": 97,
   "id": "a2051abe",
   "metadata": {},
   "outputs": [
    {
     "name": "stdout",
     "output_type": "stream",
     "text": [
      "3 : (5, (3, (1, None, None), (4, None, None)), (9, None, (11, None, None)))\n",
      "1 : (1, None, (3, None, (4, None, (5, None, (9, None, (11, None, None))))))\n",
      "1 : (5, None, None)\n"
     ]
    }
   ],
   "source": [
    "def leaves(T):\n",
    "    \"\"\" Return the number of leaves in the Tree \"\"\"\n",
    "    if T is None:\n",
    "        return 0\n",
    "    elif left(T) is None and right(T) is None:\n",
    "        return 1\n",
    "    else:\n",
    "        return leaves(left(T)) + leaves(right(T))\n",
    "    \n",
    "print(leaves(T), \":\", T)\n",
    "print(leaves(Tsorted), \":\", Tsorted)    \n",
    "print(leaves((5, None, None)), \":\", (5, None, None))\n",
    "\n",
    "\n"
   ]
  },
  {
   "cell_type": "code",
   "execution_count": 98,
   "id": "9c886958",
   "metadata": {},
   "outputs": [
    {
     "name": "stdout",
     "output_type": "stream",
     "text": [
      "3 : (5, (3, (1, None, None), (4, None, None)), (9, None, (11, None, None)))\n",
      "5 : (1, None, (3, None, (4, None, (5, None, (9, None, (11, None, None))))))\n",
      "0 : (5, None, None)\n"
     ]
    }
   ],
   "source": [
    "# Internal (non-leaf) nodes\n",
    "def internal(T):\n",
    "    return nodes(T) - leaves(T)\n",
    "\n",
    "print(internal(T), \":\", T)\n",
    "print(internal(Tsorted), \":\", Tsorted)    \n",
    "print(internal((5, None, None)), \":\", (5, None, None))\n"
   ]
  },
  {
   "cell_type": "markdown",
   "id": "5bbdd4a0",
   "metadata": {},
   "source": [
    "We are gradually building up the tools necessary to construct decision tree.\n",
    "Let's change the tree node representation.  Instead of (key, left, right),\n",
    "lets carry along the values that reach that node.   This is akin to storing the\n",
    "instances that reach each node of our decision tree. (We may not want to have a stopping\n",
    "condition based on the number of remaining instance or the maximum depth of the tree.)\n",
    "These \"hyperparameters\" can help us limit the complexity of our decision tree and prevent overfitting."
   ]
  },
  {
   "cell_type": "code",
   "execution_count": 99,
   "id": "a35570e6",
   "metadata": {},
   "outputs": [],
   "source": [
    "def vals(T):\n",
    "    \"\"\"The values that reach that node \"\"\"\n",
    "    T[3] if T is not None else None\n"
   ]
  },
  {
   "cell_type": "code",
   "execution_count": 100,
   "id": "aebc2039",
   "metadata": {},
   "outputs": [],
   "source": [
    "def tree(L):\n",
    "    \"\"\" Modified tree builder - store values at each node \"\"\"\n",
    "    if L is None or len(L) == 0: # This is our stopping condition\n",
    "        return None\n",
    "    key = L[0]\n",
    "    left_vals = [x for x in L[1:] if x <= key] # Left split\n",
    "    right_vals = [x for x in L[1:] if x > key] # Right split\n",
    "    return (key, tree(left_vals), tree(right_vals), L)  # <-  The only line that changed!"
   ]
  },
  {
   "cell_type": "code",
   "execution_count": 101,
   "id": "7bac0d80",
   "metadata": {},
   "outputs": [
    {
     "name": "stdout",
     "output_type": "stream",
     "text": [
      "(5,\n",
      " (3, (1, None, None, [1]), (4, None, None, [4]), [3, 1, 4]),\n",
      " (9, None, (11, None, None, [11]), [9, 11]),\n",
      " [5, 3, 1, 4, 9, 11])\n"
     ]
    }
   ],
   "source": [
    "T2 = tree(Lsmall)\n",
    "pprint(T2)"
   ]
  },
  {
   "cell_type": "markdown",
   "id": "df76345b",
   "metadata": {},
   "source": [
    "Now we'll modify our tree builder with a new stopping condition: the minimum number of values.\n",
    "If we don't have at least  *min_vals*  values (instances) we won't bother to split.  The default value\n",
    "for this parameter will still be 1"
   ]
  },
  {
   "cell_type": "code",
   "execution_count": 153,
   "id": "cd16538c",
   "metadata": {},
   "outputs": [],
   "source": [
    "def tree(L, min_vals=1):\n",
    "    \"\"\" Build a binary tree, but stop splitting if number of values\n",
    "    falls falls below some threshhold (min_vals) \"\"\"\n",
    "    if L is None or len(L)==0:\n",
    "        return None\n",
    "    elif len(L) < min_vals: # This is our NEW additional stopping condition\n",
    "        return (L[0], None, None, L)\n",
    "    else:\n",
    "        key = L[0]\n",
    "        left_vals = [x for x in L[1:] if x <= key] \n",
    "        right_vals = [x for x in L[1:] if x > key] \n",
    "        return (key, tree(left_vals, min_vals), tree(right_vals, min_vals), L)  "
   ]
  },
  {
   "cell_type": "code",
   "execution_count": 159,
   "id": "006bc8c3",
   "metadata": {},
   "outputs": [
    {
     "name": "stdout",
     "output_type": "stream",
     "text": [
      "(5,\n",
      " (3, None, None, [3, 1, 4]),\n",
      " (9, None, None, [9, 11]),\n",
      " [5, 3, 1, 4, 9, 11])\n"
     ]
    }
   ],
   "source": [
    "T3 = tree(Lsmall, min_vals=4)\n",
    "pprint(T3, width=30)"
   ]
  },
  {
   "cell_type": "code",
   "execution_count": 144,
   "id": "8d6fa8eb",
   "metadata": {},
   "outputs": [
    {
     "data": {
      "text/plain": [
       "[5, 3, 1, 4, 9, 11]"
      ]
     },
     "execution_count": 144,
     "metadata": {},
     "output_type": "execute_result"
    }
   ],
   "source": [
    "Lsmall"
   ]
  },
  {
   "cell_type": "code",
   "execution_count": null,
   "id": "fc934c97",
   "metadata": {},
   "outputs": [],
   "source": []
  }
 ],
 "metadata": {
  "kernelspec": {
   "display_name": "Python 3 (ipykernel)",
   "language": "python",
   "name": "python3"
  },
  "language_info": {
   "codemirror_mode": {
    "name": "ipython",
    "version": 3
   },
   "file_extension": ".py",
   "mimetype": "text/x-python",
   "name": "python",
   "nbconvert_exporter": "python",
   "pygments_lexer": "ipython3",
   "version": "3.9.16"
  }
 },
 "nbformat": 4,
 "nbformat_minor": 5
}

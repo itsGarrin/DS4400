{
 "cells": [
  {
   "cell_type": "markdown",
   "id": "6c268685",
   "metadata": {},
   "source": [
    "### DS4400: Lab 1\n",
    "Basics of python numpy arrays"
   ]
  },
  {
   "cell_type": "code",
   "execution_count": 1,
   "id": "e8c3cffb",
   "metadata": {},
   "outputs": [],
   "source": [
    "# Library imports\n",
    "import pandas as pd\n",
    "import numpy as np\n",
    "import seaborn as sns\n",
    "import random as rnd"
   ]
  },
  {
   "cell_type": "code",
   "execution_count": 2,
   "id": "b3325039",
   "metadata": {},
   "outputs": [
    {
     "data": {
      "text/plain": [
       "array([5, 2, 0])"
      ]
     },
     "execution_count": 2,
     "metadata": {},
     "output_type": "execute_result"
    }
   ],
   "source": [
    "# Vectors are represented by numpy arrays\n",
    "# Example:  u = 2i + k,  v = 3i + 2j -1k\n",
    "\n",
    "u = np.array([2, 0, 1])\n",
    "v = np.array([3, 2, -1])\n",
    "\n",
    "u + v\n"
   ]
  },
  {
   "cell_type": "code",
   "execution_count": 3,
   "id": "347f27ce",
   "metadata": {},
   "outputs": [
    {
     "data": {
      "text/plain": [
       "array([-2,  5,  4])"
      ]
     },
     "execution_count": 3,
     "metadata": {},
     "output_type": "execute_result"
    }
   ],
   "source": [
    "# Dot product, cross product\n",
    "\n",
    "# Dot product: u . v = 2*3 + 0*2 + 1*(-1) = 5\n",
    "np.dot(u,v)\n",
    "\n",
    "# Cross product:\n",
    "np.cross(u,v)"
   ]
  },
  {
   "cell_type": "code",
   "execution_count": 4,
   "id": "1f0773bc",
   "metadata": {},
   "outputs": [
    {
     "data": {
      "text/plain": [
       "array([[1, 2],\n",
       "       [3, 4]])"
      ]
     },
     "execution_count": 4,
     "metadata": {},
     "output_type": "execute_result"
    }
   ],
   "source": [
    "A = np.array([1,2,3,4]).reshape(2,2)\n",
    "A"
   ]
  },
  {
   "cell_type": "code",
   "execution_count": 5,
   "id": "af3f8082",
   "metadata": {},
   "outputs": [
    {
     "name": "stdout",
     "output_type": "stream",
     "text": [
      "[[1 2]\n",
      " [3 4]]\n"
     ]
    }
   ],
   "source": [
    "# display the array\n",
    "print(A)"
   ]
  },
  {
   "cell_type": "code",
   "execution_count": 6,
   "id": "65f95404",
   "metadata": {},
   "outputs": [
    {
     "data": {
      "text/plain": [
       "(2, 2)"
      ]
     },
     "execution_count": 6,
     "metadata": {},
     "output_type": "execute_result"
    }
   ],
   "source": [
    "# The shape of the array\n",
    "A.shape"
   ]
  },
  {
   "cell_type": "code",
   "execution_count": 7,
   "id": "22a4d9eb",
   "metadata": {},
   "outputs": [
    {
     "name": "stdout",
     "output_type": "stream",
     "text": [
      "3\n"
     ]
    }
   ],
   "source": [
    "# Indexing into an array\n",
    "\n",
    "value = A[1,0]\n",
    "print(value)"
   ]
  },
  {
   "cell_type": "code",
   "execution_count": 8,
   "id": "195ba670",
   "metadata": {},
   "outputs": [
    {
     "data": {
      "text/plain": [
       "array([[1, 1],\n",
       "       [1, 1]])"
      ]
     },
     "execution_count": 8,
     "metadata": {},
     "output_type": "execute_result"
    }
   ],
   "source": [
    "# Initializing an array of 1s\n",
    "B = np.ones(shape=(2,2), dtype=int)\n",
    "B\n"
   ]
  },
  {
   "cell_type": "code",
   "execution_count": 9,
   "id": "f6fa172f",
   "metadata": {},
   "outputs": [
    {
     "data": {
      "text/plain": [
       "array([[2, 2],\n",
       "       [2, 2]])"
      ]
     },
     "execution_count": 9,
     "metadata": {},
     "output_type": "execute_result"
    }
   ],
   "source": [
    "# Scalar multiplication\n",
    "2 * B"
   ]
  },
  {
   "cell_type": "code",
   "execution_count": 10,
   "id": "013e8002",
   "metadata": {},
   "outputs": [
    {
     "data": {
      "text/plain": [
       "array([[3, 4],\n",
       "       [5, 6]])"
      ]
     },
     "execution_count": 10,
     "metadata": {},
     "output_type": "execute_result"
    }
   ],
   "source": [
    "C = A + 2 * B\n",
    "C"
   ]
  },
  {
   "cell_type": "code",
   "execution_count": 11,
   "id": "5490c122",
   "metadata": {},
   "outputs": [
    {
     "data": {
      "text/plain": [
       "array([[ 3,  8],\n",
       "       [15, 24]])"
      ]
     },
     "execution_count": 11,
     "metadata": {},
     "output_type": "execute_result"
    }
   ],
   "source": [
    "# Term by term multiplication\n",
    "A * C"
   ]
  },
  {
   "cell_type": "code",
   "execution_count": 12,
   "id": "08a1efc6",
   "metadata": {},
   "outputs": [
    {
     "data": {
      "text/plain": [
       "array([[13, 16],\n",
       "       [29, 36]])"
      ]
     },
     "execution_count": 12,
     "metadata": {},
     "output_type": "execute_result"
    }
   ],
   "source": [
    "# Matrix multiplication\n",
    "A @ C\n",
    "\n",
    "# This also works\n",
    "np.matmul(A,C)"
   ]
  },
  {
   "cell_type": "code",
   "execution_count": 14,
   "id": "102b6ff5",
   "metadata": {},
   "outputs": [
    {
     "data": {
      "text/plain": [
       "array([5, 9])"
      ]
     },
     "execution_count": 14,
     "metadata": {},
     "output_type": "execute_result"
    }
   ],
   "source": [
    "# Ax = b   ==> x = A^(-1) b\n",
    "# x + 2y  = 5\n",
    "# 3x + 4y = 9    ==>.   x = -1, y = 3\n",
    "\n",
    "# Verify\n",
    "b = np.array([5,9])\n",
    "x = np.array([-1, 3])\n",
    "A @ x\n",
    "\n",
    "\n"
   ]
  },
  {
   "cell_type": "code",
   "execution_count": 15,
   "id": "9b4dcaec",
   "metadata": {},
   "outputs": [
    {
     "data": {
      "text/plain": [
       "array([-1.,  3.])"
      ]
     },
     "execution_count": 15,
     "metadata": {},
     "output_type": "execute_result"
    }
   ],
   "source": [
    "# Approach 1\n",
    "from numpy.linalg import inv\n",
    "inv(A) @ b"
   ]
  },
  {
   "cell_type": "code",
   "execution_count": 16,
   "id": "f29a5dce",
   "metadata": {},
   "outputs": [
    {
     "data": {
      "text/plain": [
       "array([-1.,  3.])"
      ]
     },
     "execution_count": 16,
     "metadata": {},
     "output_type": "execute_result"
    }
   ],
   "source": [
    "# Approach 2\n",
    "from numpy.linalg import solve\n",
    "solve(A,b)"
   ]
  },
  {
   "cell_type": "code",
   "execution_count": 18,
   "id": "dc18f3bf",
   "metadata": {},
   "outputs": [
    {
     "data": {
      "text/plain": [
       "array([4, 6])"
      ]
     },
     "execution_count": 18,
     "metadata": {},
     "output_type": "execute_result"
    }
   ],
   "source": [
    "# columnar sums\n",
    "sum(A)"
   ]
  },
  {
   "cell_type": "code",
   "execution_count": 13,
   "id": "c683b317",
   "metadata": {},
   "outputs": [
    {
     "data": {
      "text/plain": [
       "10"
      ]
     },
     "execution_count": 13,
     "metadata": {},
     "output_type": "execute_result"
    }
   ],
   "source": [
    "# Array-wide sum\n",
    "A.sum()\n"
   ]
  },
  {
   "cell_type": "code",
   "execution_count": 15,
   "id": "af8c8b1b",
   "metadata": {},
   "outputs": [
    {
     "data": {
      "text/plain": [
       "1.118033988749895"
      ]
     },
     "execution_count": 15,
     "metadata": {},
     "output_type": "execute_result"
    }
   ],
   "source": [
    "# Average\n",
    "A.mean()\n",
    "\n",
    "# Average\n",
    "A.std()"
   ]
  },
  {
   "cell_type": "code",
   "execution_count": 16,
   "id": "207b4ed2",
   "metadata": {},
   "outputs": [
    {
     "data": {
      "text/plain": [
       "2"
      ]
     },
     "execution_count": 16,
     "metadata": {},
     "output_type": "execute_result"
    }
   ],
   "source": [
    "# Extract value\n",
    "A[0,1]"
   ]
  },
  {
   "cell_type": "code",
   "execution_count": 17,
   "id": "344ee6f8",
   "metadata": {},
   "outputs": [
    {
     "data": {
      "text/plain": [
       "array([3, 4])"
      ]
     },
     "execution_count": 17,
     "metadata": {},
     "output_type": "execute_result"
    }
   ],
   "source": [
    "# Extract row\n",
    "A[1]"
   ]
  },
  {
   "cell_type": "code",
   "execution_count": 28,
   "id": "52b8174e",
   "metadata": {},
   "outputs": [
    {
     "data": {
      "text/plain": [
       "array([2, 4])"
      ]
     },
     "execution_count": 28,
     "metadata": {},
     "output_type": "execute_result"
    }
   ],
   "source": [
    "# Extract column\n",
    "A[:, 1]"
   ]
  },
  {
   "cell_type": "code",
   "execution_count": 19,
   "id": "60e0e6f3",
   "metadata": {},
   "outputs": [
    {
     "data": {
      "text/plain": [
       "array([[ 7,  8],\n",
       "       [12, 13]])"
      ]
     },
     "execution_count": 19,
     "metadata": {},
     "output_type": "execute_result"
    }
   ],
   "source": [
    "# Extract a portion of the matrix\n",
    "X = np.array(range(25)).reshape(5,5)\n",
    "X\n",
    "\n",
    "X[1:3, 2:4]"
   ]
  },
  {
   "cell_type": "code",
   "execution_count": 33,
   "id": "77387148",
   "metadata": {},
   "outputs": [
    {
     "data": {
      "text/plain": [
       "array([[  0,   1,   4,   9,  16],\n",
       "       [ 25,  36,  49,  64,  81],\n",
       "       [100, 121, 144, 169, 196],\n",
       "       [225, 256, 289, 324, 361],\n",
       "       [400, 441, 484, 529, 576]])"
      ]
     },
     "execution_count": 33,
     "metadata": {},
     "output_type": "execute_result"
    }
   ],
   "source": [
    "# Applying functions to arrays\n",
    "\n",
    "X ** 2\n"
   ]
  },
  {
   "cell_type": "code",
   "execution_count": 20,
   "id": "32981ae3",
   "metadata": {},
   "outputs": [
    {
     "data": {
      "text/plain": [
       "array([[1, 2],\n",
       "       [3, 4]])"
      ]
     },
     "execution_count": 20,
     "metadata": {},
     "output_type": "execute_result"
    }
   ],
   "source": []
  },
  {
   "cell_type": "code",
   "execution_count": 22,
   "id": "4b134fff",
   "metadata": {},
   "outputs": [
    {
     "data": {
      "text/plain": [
       "array([[ 0.        ,  0.84147098,  0.90929743,  0.14112001, -0.7568025 ],\n",
       "       [-0.95892427, -0.2794155 ,  0.6569866 ,  0.98935825,  0.41211849],\n",
       "       [-0.54402111, -0.99999021, -0.53657292,  0.42016704,  0.99060736],\n",
       "       [ 0.65028784, -0.28790332, -0.96139749, -0.75098725,  0.14987721],\n",
       "       [ 0.91294525,  0.83665564, -0.00885131, -0.8462204 , -0.90557836]])"
      ]
     },
     "execution_count": 22,
     "metadata": {},
     "output_type": "execute_result"
    }
   ],
   "source": [
    "# Doesn't work\n",
    "#import math\n",
    "#math.sin(X)\n",
    "\n",
    "# Instead do this:\n",
    "np.sin(X)"
   ]
  },
  {
   "cell_type": "code",
   "execution_count": 23,
   "id": "dc5c9ff8",
   "metadata": {},
   "outputs": [
    {
     "data": {
      "text/plain": [
       "-0.9001976297355174"
      ]
     },
     "execution_count": 23,
     "metadata": {},
     "output_type": "execute_result"
    }
   ],
   "source": [
    "def f(x,y):\n",
    "    return np.sin(x) * np.cos(y)\n",
    "\n",
    "f(2,3)"
   ]
  },
  {
   "cell_type": "code",
   "execution_count": 24,
   "id": "27a618f1",
   "metadata": {},
   "outputs": [
    {
     "data": {
      "text/plain": [
       "array([[ 0.        ,  0.        , -0.        , -0.        , -0.        ,\n",
       "         0.        ,  0.        ,  0.        , -0.        , -0.        ],\n",
       "       [ 0.84147098,  0.45464871, -0.35017549, -0.83304996, -0.55002214,\n",
       "         0.2386935 ,  0.80795544,  0.63438687, -0.12243406, -0.76668968],\n",
       "       [ 0.90929743,  0.4912955 , -0.37840125, -0.90019763, -0.59435646,\n",
       "         0.2579333 ,  0.87308037,  0.68552138, -0.13230281, -0.8284884 ],\n",
       "       [ 0.14112001,  0.07624747, -0.05872664, -0.13970775, -0.09224219,\n",
       "         0.04003041,  0.13549924,  0.10639069, -0.02053297, -0.12857871],\n",
       "       [-0.7568025 , -0.40890213,  0.31494096,  0.74922879,  0.49467912,\n",
       "        -0.21467625, -0.72665927, -0.57055511,  0.11011479,  0.68954566],\n",
       "       [-0.95892427, -0.518109  ,  0.3990533 ,  0.94932784,  0.62679474,\n",
       "        -0.27201056, -0.9207306 , -0.72293517,  0.13952351,  0.87370493],\n",
       "       [-0.2794155 , -0.15096884,  0.11627788,  0.27661925,  0.18263816,\n",
       "        -0.07925961, -0.26828646, -0.21065197,  0.04065496,  0.25458392],\n",
       "       [ 0.6569866 ,  0.35497137, -0.27340289, -0.6504118 , -0.4294351 ,\n",
       "         0.18636225,  0.63081901,  0.49530368, -0.09559157, -0.59860037],\n",
       "       [ 0.98935825,  0.53455254, -0.4117183 , -0.97945724, -0.64668771,\n",
       "         0.28064352,  0.94995239,  0.74587941, -0.14395166, -0.90143424],\n",
       "       [ 0.41211849,  0.22266857, -0.1715018 , -0.40799421, -0.26937862,\n",
       "         0.11690243,  0.39570392,  0.31069706, -0.05996325, -0.37549362]])"
      ]
     },
     "execution_count": 24,
     "metadata": {},
     "output_type": "execute_result"
    }
   ],
   "source": [
    "Z = np.fromfunction(f, shape= (10,10), dtype=int)\n",
    "Z"
   ]
  },
  {
   "cell_type": "code",
   "execution_count": 26,
   "id": "15f39ada",
   "metadata": {},
   "outputs": [
    {
     "data": {
      "text/plain": [
       "<matplotlib.image.AxesImage at 0x15bef89a0>"
      ]
     },
     "execution_count": 26,
     "metadata": {},
     "output_type": "execute_result"
    },
    {
     "data": {
      "image/png": "[encoded data removed]",
      "text/plain": [
       "<Figure size 640x480 with 1 Axes>"
      ]
     },
     "metadata": {},
     "output_type": "display_data"
    }
   ],
   "source": [
    "import matplotlib.pyplot as plt\n",
    "plt.imshow(Z)"
   ]
  },
  {
   "cell_type": "code",
   "execution_count": 29,
   "id": "67e08483",
   "metadata": {},
   "outputs": [],
   "source": [
    "x = np.arange(-5, 5, .1)\n",
    "y = np.arange(-5, 5, .1)\n",
    "X, Y = np.meshgrid(x,y)"
   ]
  },
  {
   "cell_type": "code",
   "execution_count": 32,
   "id": "805d09ef",
   "metadata": {},
   "outputs": [],
   "source": [
    "Z = f(X,Y)"
   ]
  },
  {
   "cell_type": "code",
   "execution_count": 33,
   "id": "b1f78107",
   "metadata": {},
   "outputs": [
    {
     "data": {
      "text/plain": [
       "<matplotlib.image.AxesImage at 0x15c00a100>"
      ]
     },
     "execution_count": 33,
     "metadata": {},
     "output_type": "execute_result"
    },
    {
     "data": {
      "image/png": "[encoded data removed]",
      "text/plain": [
       "<Figure size 800x800 with 1 Axes>"
      ]
     },
     "metadata": {},
     "output_type": "display_data"
    }
   ],
   "source": [
    "plt.figure(figsize=(8,8))\n",
    "plt.imshow(Z)"
   ]
  },
  {
   "cell_type": "code",
   "execution_count": null,
   "id": "89335bcd",
   "metadata": {},
   "outputs": [],
   "source": []
  }
 ],
 "metadata": {
  "kernelspec": {
   "display_name": "Python 3 (ipykernel)",
   "language": "python",
   "name": "python3"
  },
  "language_info": {
   "codemirror_mode": {
    "name": "ipython",
    "version": 3
   },
   "file_extension": ".py",
   "mimetype": "text/x-python",
   "name": "python",
   "nbconvert_exporter": "python",
   "pygments_lexer": "ipython3",
   "version": "3.9.13"
  }
 },
 "nbformat": 4,
 "nbformat_minor": 5
}
